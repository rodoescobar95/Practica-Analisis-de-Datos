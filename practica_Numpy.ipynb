{
  "nbformat": 4,
  "nbformat_minor": 0,
  "metadata": {
    "colab": {
      "provenance": []
    },
    "kernelspec": {
      "name": "python3",
      "display_name": "Python 3"
    },
    "language_info": {
      "name": "python"
    }
  },
  "cells": [
    {
      "cell_type": "markdown",
      "metadata": {
        "id": "MuYB4pE_viZG"
      },
      "source": [
        "# Práctica de la librería Numpy\n"
      ]
    },
    {
      "cell_type": "code",
      "metadata": {
        "id": "Hrz__kvsviZL"
      },
      "source": [
        "# Importamos Numpy con su abreviación \"np\"\n",
        "import numpy as np"
      ],
      "execution_count": null,
      "outputs": []
    },
    {
      "cell_type": "code",
      "metadata": {
        "id": "9fwuO-3_viZM"
      },
      "source": [
        "# Podemos crear arrays de una dimensión con la función np.array()\n",
        "array_unidim = np.array([1,2,3,4,5])\n",
        "\n",
        "# O un array de dos dimensiones (bidimensional)\n",
        "array_bidim = np.array([[1,2,3],\n",
        "                       [4,5,6]])\n",
        "\n",
        "# O un array de tres dimensiones (tridimensional)\n",
        "array_tridim = np.array([[[1,2,3],\n",
        "                          [4,5,6]],\n",
        "                        [[7,8,9],\n",
        "                         [10,11,12]]])\n"
      ],
      "execution_count": null,
      "outputs": []
    },
    {
      "cell_type": "markdown",
      "metadata": {
        "id": "qp2_ZpJXviZN"
      },
      "source": [
        "Para cada uno de estos arrays, podemos obtener sus propiedades, tales como su \"forma\", número de dimensiones, tipos de datos y tamaño."
      ]
    },
    {
      "cell_type": "code",
      "metadata": {
        "id": "m2HD8334viZN",
        "colab": {
          "base_uri": "https://localhost:8080/"
        },
        "outputId": "9b1d7d70-3fee-4038-85c6-036d6a45050c"
      },
      "source": [
        "# Atributos del array unidimensional (forma, número de dimensiones, tipos de datos, tamaño, y tipo)\n",
        "array_unidim.shape, array_unidim.ndim, array_unidim.dtype, array_unidim.size, type(array_unidim)\n"
      ],
      "execution_count": null,
      "outputs": [
        {
          "output_type": "execute_result",
          "data": {
            "text/plain": [
              "((5,), 1, dtype('int64'), 5, numpy.ndarray)"
            ]
          },
          "metadata": {},
          "execution_count": 3
        }
      ]
    },
    {
      "cell_type": "code",
      "metadata": {
        "id": "CW6dU4z6viZO",
        "colab": {
          "base_uri": "https://localhost:8080/"
        },
        "outputId": "4e6ca6f0-7a4f-48c5-c278-4e190268205d"
      },
      "source": [
        "# Atributos del array bidimensional\n",
        "array_bidim.shape, array_bidim.ndim, array_bidim.dtype, array_bidim.size, type(array_bidim)"
      ],
      "execution_count": null,
      "outputs": [
        {
          "output_type": "execute_result",
          "data": {
            "text/plain": [
              "((2, 3), 2, dtype('int64'), 6, numpy.ndarray)"
            ]
          },
          "metadata": {},
          "execution_count": 4
        }
      ]
    },
    {
      "cell_type": "code",
      "metadata": {
        "id": "2dQw-98tviZP",
        "colab": {
          "base_uri": "https://localhost:8080/"
        },
        "outputId": "ffe93900-7624-4965-b029-44c2aa776497"
      },
      "source": [
        "# Atributos del array tridimensional\n",
        "array_tridim.shape, array_tridim.ndim, array_tridim.dtype, array_tridim.size, type(array_tridim)"
      ],
      "execution_count": null,
      "outputs": [
        {
          "output_type": "execute_result",
          "data": {
            "text/plain": [
              "((2, 2, 3), 3, dtype('int64'), 12, numpy.ndarray)"
            ]
          },
          "metadata": {},
          "execution_count": 5
        }
      ]
    },
    {
      "cell_type": "code",
      "metadata": {
        "id": "bqWXuSpEviZQ",
        "colab": {
          "base_uri": "https://localhost:8080/",
          "height": 125
        },
        "outputId": "11910440-df8a-4c75-b726-b45e241d5ba2"
      },
      "source": [
        "# Importamos pandas como pd, y creamos un DataFrame a partir del array bidimensional\n",
        "import pandas as pd\n",
        "datos = pd.DataFrame(array_bidim)\n",
        "datos"
      ],
      "execution_count": null,
      "outputs": [
        {
          "output_type": "execute_result",
          "data": {
            "text/plain": [
              "   0  1  2\n",
              "0  1  2  3\n",
              "1  4  5  6"
            ],
            "text/html": [
              "\n",
              "  <div id=\"df-3829f758-fdb0-438e-b84c-d45b72ed68ad\" class=\"colab-df-container\">\n",
              "    <div>\n",
              "<style scoped>\n",
              "    .dataframe tbody tr th:only-of-type {\n",
              "        vertical-align: middle;\n",
              "    }\n",
              "\n",
              "    .dataframe tbody tr th {\n",
              "        vertical-align: top;\n",
              "    }\n",
              "\n",
              "    .dataframe thead th {\n",
              "        text-align: right;\n",
              "    }\n",
              "</style>\n",
              "<table border=\"1\" class=\"dataframe\">\n",
              "  <thead>\n",
              "    <tr style=\"text-align: right;\">\n",
              "      <th></th>\n",
              "      <th>0</th>\n",
              "      <th>1</th>\n",
              "      <th>2</th>\n",
              "    </tr>\n",
              "  </thead>\n",
              "  <tbody>\n",
              "    <tr>\n",
              "      <th>0</th>\n",
              "      <td>1</td>\n",
              "      <td>2</td>\n",
              "      <td>3</td>\n",
              "    </tr>\n",
              "    <tr>\n",
              "      <th>1</th>\n",
              "      <td>4</td>\n",
              "      <td>5</td>\n",
              "      <td>6</td>\n",
              "    </tr>\n",
              "  </tbody>\n",
              "</table>\n",
              "</div>\n",
              "    <div class=\"colab-df-buttons\">\n",
              "\n",
              "  <div class=\"colab-df-container\">\n",
              "    <button class=\"colab-df-convert\" onclick=\"convertToInteractive('df-3829f758-fdb0-438e-b84c-d45b72ed68ad')\"\n",
              "            title=\"Convert this dataframe to an interactive table.\"\n",
              "            style=\"display:none;\">\n",
              "\n",
              "  <svg xmlns=\"http://www.w3.org/2000/svg\" height=\"24px\" viewBox=\"0 -960 960 960\">\n",
              "    <path d=\"M120-120v-720h720v720H120Zm60-500h600v-160H180v160Zm220 220h160v-160H400v160Zm0 220h160v-160H400v160ZM180-400h160v-160H180v160Zm440 0h160v-160H620v160ZM180-180h160v-160H180v160Zm440 0h160v-160H620v160Z\"/>\n",
              "  </svg>\n",
              "    </button>\n",
              "\n",
              "  <style>\n",
              "    .colab-df-container {\n",
              "      display:flex;\n",
              "      gap: 12px;\n",
              "    }\n",
              "\n",
              "    .colab-df-convert {\n",
              "      background-color: #E8F0FE;\n",
              "      border: none;\n",
              "      border-radius: 50%;\n",
              "      cursor: pointer;\n",
              "      display: none;\n",
              "      fill: #1967D2;\n",
              "      height: 32px;\n",
              "      padding: 0 0 0 0;\n",
              "      width: 32px;\n",
              "    }\n",
              "\n",
              "    .colab-df-convert:hover {\n",
              "      background-color: #E2EBFA;\n",
              "      box-shadow: 0px 1px 2px rgba(60, 64, 67, 0.3), 0px 1px 3px 1px rgba(60, 64, 67, 0.15);\n",
              "      fill: #174EA6;\n",
              "    }\n",
              "\n",
              "    .colab-df-buttons div {\n",
              "      margin-bottom: 4px;\n",
              "    }\n",
              "\n",
              "    [theme=dark] .colab-df-convert {\n",
              "      background-color: #3B4455;\n",
              "      fill: #D2E3FC;\n",
              "    }\n",
              "\n",
              "    [theme=dark] .colab-df-convert:hover {\n",
              "      background-color: #434B5C;\n",
              "      box-shadow: 0px 1px 3px 1px rgba(0, 0, 0, 0.15);\n",
              "      filter: drop-shadow(0px 1px 2px rgba(0, 0, 0, 0.3));\n",
              "      fill: #FFFFFF;\n",
              "    }\n",
              "  </style>\n",
              "\n",
              "    <script>\n",
              "      const buttonEl =\n",
              "        document.querySelector('#df-3829f758-fdb0-438e-b84c-d45b72ed68ad button.colab-df-convert');\n",
              "      buttonEl.style.display =\n",
              "        google.colab.kernel.accessAllowed ? 'block' : 'none';\n",
              "\n",
              "      async function convertToInteractive(key) {\n",
              "        const element = document.querySelector('#df-3829f758-fdb0-438e-b84c-d45b72ed68ad');\n",
              "        const dataTable =\n",
              "          await google.colab.kernel.invokeFunction('convertToInteractive',\n",
              "                                                    [key], {});\n",
              "        if (!dataTable) return;\n",
              "\n",
              "        const docLinkHtml = 'Like what you see? Visit the ' +\n",
              "          '<a target=\"_blank\" href=https://colab.research.google.com/notebooks/data_table.ipynb>data table notebook</a>'\n",
              "          + ' to learn more about interactive tables.';\n",
              "        element.innerHTML = '';\n",
              "        dataTable['output_type'] = 'display_data';\n",
              "        await google.colab.output.renderOutput(dataTable, element);\n",
              "        const docLink = document.createElement('div');\n",
              "        docLink.innerHTML = docLinkHtml;\n",
              "        element.appendChild(docLink);\n",
              "      }\n",
              "    </script>\n",
              "  </div>\n",
              "\n",
              "\n",
              "<div id=\"df-e1f9e2bb-c2dc-4146-a7c3-0ad2db8919d7\">\n",
              "  <button class=\"colab-df-quickchart\" onclick=\"quickchart('df-e1f9e2bb-c2dc-4146-a7c3-0ad2db8919d7')\"\n",
              "            title=\"Suggest charts\"\n",
              "            style=\"display:none;\">\n",
              "\n",
              "<svg xmlns=\"http://www.w3.org/2000/svg\" height=\"24px\"viewBox=\"0 0 24 24\"\n",
              "     width=\"24px\">\n",
              "    <g>\n",
              "        <path d=\"M19 3H5c-1.1 0-2 .9-2 2v14c0 1.1.9 2 2 2h14c1.1 0 2-.9 2-2V5c0-1.1-.9-2-2-2zM9 17H7v-7h2v7zm4 0h-2V7h2v10zm4 0h-2v-4h2v4z\"/>\n",
              "    </g>\n",
              "</svg>\n",
              "  </button>\n",
              "\n",
              "<style>\n",
              "  .colab-df-quickchart {\n",
              "      --bg-color: #E8F0FE;\n",
              "      --fill-color: #1967D2;\n",
              "      --hover-bg-color: #E2EBFA;\n",
              "      --hover-fill-color: #174EA6;\n",
              "      --disabled-fill-color: #AAA;\n",
              "      --disabled-bg-color: #DDD;\n",
              "  }\n",
              "\n",
              "  [theme=dark] .colab-df-quickchart {\n",
              "      --bg-color: #3B4455;\n",
              "      --fill-color: #D2E3FC;\n",
              "      --hover-bg-color: #434B5C;\n",
              "      --hover-fill-color: #FFFFFF;\n",
              "      --disabled-bg-color: #3B4455;\n",
              "      --disabled-fill-color: #666;\n",
              "  }\n",
              "\n",
              "  .colab-df-quickchart {\n",
              "    background-color: var(--bg-color);\n",
              "    border: none;\n",
              "    border-radius: 50%;\n",
              "    cursor: pointer;\n",
              "    display: none;\n",
              "    fill: var(--fill-color);\n",
              "    height: 32px;\n",
              "    padding: 0;\n",
              "    width: 32px;\n",
              "  }\n",
              "\n",
              "  .colab-df-quickchart:hover {\n",
              "    background-color: var(--hover-bg-color);\n",
              "    box-shadow: 0 1px 2px rgba(60, 64, 67, 0.3), 0 1px 3px 1px rgba(60, 64, 67, 0.15);\n",
              "    fill: var(--button-hover-fill-color);\n",
              "  }\n",
              "\n",
              "  .colab-df-quickchart-complete:disabled,\n",
              "  .colab-df-quickchart-complete:disabled:hover {\n",
              "    background-color: var(--disabled-bg-color);\n",
              "    fill: var(--disabled-fill-color);\n",
              "    box-shadow: none;\n",
              "  }\n",
              "\n",
              "  .colab-df-spinner {\n",
              "    border: 2px solid var(--fill-color);\n",
              "    border-color: transparent;\n",
              "    border-bottom-color: var(--fill-color);\n",
              "    animation:\n",
              "      spin 1s steps(1) infinite;\n",
              "  }\n",
              "\n",
              "  @keyframes spin {\n",
              "    0% {\n",
              "      border-color: transparent;\n",
              "      border-bottom-color: var(--fill-color);\n",
              "      border-left-color: var(--fill-color);\n",
              "    }\n",
              "    20% {\n",
              "      border-color: transparent;\n",
              "      border-left-color: var(--fill-color);\n",
              "      border-top-color: var(--fill-color);\n",
              "    }\n",
              "    30% {\n",
              "      border-color: transparent;\n",
              "      border-left-color: var(--fill-color);\n",
              "      border-top-color: var(--fill-color);\n",
              "      border-right-color: var(--fill-color);\n",
              "    }\n",
              "    40% {\n",
              "      border-color: transparent;\n",
              "      border-right-color: var(--fill-color);\n",
              "      border-top-color: var(--fill-color);\n",
              "    }\n",
              "    60% {\n",
              "      border-color: transparent;\n",
              "      border-right-color: var(--fill-color);\n",
              "    }\n",
              "    80% {\n",
              "      border-color: transparent;\n",
              "      border-right-color: var(--fill-color);\n",
              "      border-bottom-color: var(--fill-color);\n",
              "    }\n",
              "    90% {\n",
              "      border-color: transparent;\n",
              "      border-bottom-color: var(--fill-color);\n",
              "    }\n",
              "  }\n",
              "</style>\n",
              "\n",
              "  <script>\n",
              "    async function quickchart(key) {\n",
              "      const quickchartButtonEl =\n",
              "        document.querySelector('#' + key + ' button');\n",
              "      quickchartButtonEl.disabled = true;  // To prevent multiple clicks.\n",
              "      quickchartButtonEl.classList.add('colab-df-spinner');\n",
              "      try {\n",
              "        const charts = await google.colab.kernel.invokeFunction(\n",
              "            'suggestCharts', [key], {});\n",
              "      } catch (error) {\n",
              "        console.error('Error during call to suggestCharts:', error);\n",
              "      }\n",
              "      quickchartButtonEl.classList.remove('colab-df-spinner');\n",
              "      quickchartButtonEl.classList.add('colab-df-quickchart-complete');\n",
              "    }\n",
              "    (() => {\n",
              "      let quickchartButtonEl =\n",
              "        document.querySelector('#df-e1f9e2bb-c2dc-4146-a7c3-0ad2db8919d7 button');\n",
              "      quickchartButtonEl.style.display =\n",
              "        google.colab.kernel.accessAllowed ? 'block' : 'none';\n",
              "    })();\n",
              "  </script>\n",
              "</div>\n",
              "\n",
              "  <div id=\"id_7bbc533e-68a9-4ff8-a58c-112a7f4fd943\">\n",
              "    <style>\n",
              "      .colab-df-generate {\n",
              "        background-color: #E8F0FE;\n",
              "        border: none;\n",
              "        border-radius: 50%;\n",
              "        cursor: pointer;\n",
              "        display: none;\n",
              "        fill: #1967D2;\n",
              "        height: 32px;\n",
              "        padding: 0 0 0 0;\n",
              "        width: 32px;\n",
              "      }\n",
              "\n",
              "      .colab-df-generate:hover {\n",
              "        background-color: #E2EBFA;\n",
              "        box-shadow: 0px 1px 2px rgba(60, 64, 67, 0.3), 0px 1px 3px 1px rgba(60, 64, 67, 0.15);\n",
              "        fill: #174EA6;\n",
              "      }\n",
              "\n",
              "      [theme=dark] .colab-df-generate {\n",
              "        background-color: #3B4455;\n",
              "        fill: #D2E3FC;\n",
              "      }\n",
              "\n",
              "      [theme=dark] .colab-df-generate:hover {\n",
              "        background-color: #434B5C;\n",
              "        box-shadow: 0px 1px 3px 1px rgba(0, 0, 0, 0.15);\n",
              "        filter: drop-shadow(0px 1px 2px rgba(0, 0, 0, 0.3));\n",
              "        fill: #FFFFFF;\n",
              "      }\n",
              "    </style>\n",
              "    <button class=\"colab-df-generate\" onclick=\"generateWithVariable('datos')\"\n",
              "            title=\"Generate code using this dataframe.\"\n",
              "            style=\"display:none;\">\n",
              "\n",
              "  <svg xmlns=\"http://www.w3.org/2000/svg\" height=\"24px\"viewBox=\"0 0 24 24\"\n",
              "       width=\"24px\">\n",
              "    <path d=\"M7,19H8.4L18.45,9,17,7.55,7,17.6ZM5,21V16.75L18.45,3.32a2,2,0,0,1,2.83,0l1.4,1.43a1.91,1.91,0,0,1,.58,1.4,1.91,1.91,0,0,1-.58,1.4L9.25,21ZM18.45,9,17,7.55Zm-12,3A5.31,5.31,0,0,0,4.9,8.1,5.31,5.31,0,0,0,1,6.5,5.31,5.31,0,0,0,4.9,4.9,5.31,5.31,0,0,0,6.5,1,5.31,5.31,0,0,0,8.1,4.9,5.31,5.31,0,0,0,12,6.5,5.46,5.46,0,0,0,6.5,12Z\"/>\n",
              "  </svg>\n",
              "    </button>\n",
              "    <script>\n",
              "      (() => {\n",
              "      const buttonEl =\n",
              "        document.querySelector('#id_7bbc533e-68a9-4ff8-a58c-112a7f4fd943 button.colab-df-generate');\n",
              "      buttonEl.style.display =\n",
              "        google.colab.kernel.accessAllowed ? 'block' : 'none';\n",
              "\n",
              "      buttonEl.onclick = () => {\n",
              "        google.colab.notebook.generateWithVariable('datos');\n",
              "      }\n",
              "      })();\n",
              "    </script>\n",
              "  </div>\n",
              "\n",
              "    </div>\n",
              "  </div>\n"
            ],
            "application/vnd.google.colaboratory.intrinsic+json": {
              "type": "dataframe",
              "variable_name": "datos",
              "summary": "{\n  \"name\": \"datos\",\n  \"rows\": 2,\n  \"fields\": [\n    {\n      \"column\": 0,\n      \"properties\": {\n        \"dtype\": \"number\",\n        \"std\": 2,\n        \"min\": 1,\n        \"max\": 4,\n        \"num_unique_values\": 2,\n        \"samples\": [\n          4,\n          1\n        ],\n        \"semantic_type\": \"\",\n        \"description\": \"\"\n      }\n    },\n    {\n      \"column\": 1,\n      \"properties\": {\n        \"dtype\": \"number\",\n        \"std\": 2,\n        \"min\": 2,\n        \"max\": 5,\n        \"num_unique_values\": 2,\n        \"samples\": [\n          5,\n          2\n        ],\n        \"semantic_type\": \"\",\n        \"description\": \"\"\n      }\n    },\n    {\n      \"column\": 2,\n      \"properties\": {\n        \"dtype\": \"number\",\n        \"std\": 2,\n        \"min\": 3,\n        \"max\": 6,\n        \"num_unique_values\": 2,\n        \"samples\": [\n          6,\n          3\n        ],\n        \"semantic_type\": \"\",\n        \"description\": \"\"\n      }\n    }\n  ]\n}"
            }
          },
          "metadata": {},
          "execution_count": 6
        }
      ]
    },
    {
      "cell_type": "code",
      "metadata": {
        "id": "uxuBbWJlviZQ",
        "colab": {
          "base_uri": "https://localhost:8080/"
        },
        "outputId": "bbaddd40-bf58-45c2-f263-814099886389"
      },
      "source": [
        "# Creamos un array de tamaño 4x3, formado únicamente por unos (1)\n",
        "unos = np.ones((4, 3))\n",
        "unos"
      ],
      "execution_count": null,
      "outputs": [
        {
          "output_type": "execute_result",
          "data": {
            "text/plain": [
              "array([[1., 1., 1.],\n",
              "       [1., 1., 1.],\n",
              "       [1., 1., 1.],\n",
              "       [1., 1., 1.]])"
            ]
          },
          "metadata": {},
          "execution_count": 7
        }
      ]
    },
    {
      "cell_type": "code",
      "metadata": {
        "id": "lf4ntwB-viZR",
        "colab": {
          "base_uri": "https://localhost:8080/"
        },
        "outputId": "292514ff-9163-48e8-c122-c7e6da8c53b2"
      },
      "source": [
        "# Creamos un array de tamaño 2x4x3, formado únicamente por ceros (0)\n",
        "ceros = np.zeros((2, 4, 3))\n",
        "ceros"
      ],
      "execution_count": null,
      "outputs": [
        {
          "output_type": "execute_result",
          "data": {
            "text/plain": [
              "array([[[0., 0., 0.],\n",
              "        [0., 0., 0.],\n",
              "        [0., 0., 0.],\n",
              "        [0., 0., 0.]],\n",
              "\n",
              "       [[0., 0., 0.],\n",
              "        [0., 0., 0.],\n",
              "        [0., 0., 0.],\n",
              "        [0., 0., 0.]]])"
            ]
          },
          "metadata": {},
          "execution_count": 8
        }
      ]
    },
    {
      "cell_type": "code",
      "metadata": {
        "id": "HSJS5vPvviZS",
        "colab": {
          "base_uri": "https://localhost:8080/"
        },
        "outputId": "ffa0b3cb-14f6-454a-da59-4847cc3b5953"
      },
      "source": [
        "# Creamos un array de números en el rango de 0 a 100, con un paso de 5\n",
        "array_1 = np.arange(0, 101, 5)\n",
        "array_1"
      ],
      "execution_count": null,
      "outputs": [
        {
          "output_type": "execute_result",
          "data": {
            "text/plain": [
              "array([  0,   5,  10,  15,  20,  25,  30,  35,  40,  45,  50,  55,  60,\n",
              "        65,  70,  75,  80,  85,  90,  95, 100])"
            ]
          },
          "metadata": {},
          "execution_count": 10
        }
      ]
    },
    {
      "cell_type": "code",
      "metadata": {
        "id": "IuSvyty3viZT",
        "colab": {
          "base_uri": "https://localhost:8080/"
        },
        "outputId": "ed2149c8-ef96-4453-e13d-c7387d633bee"
      },
      "source": [
        "# Creamos un array de números aleatorios enteros comprendidos en entre 0 y 10, de tamaño (2, 5)\n",
        "array_2 = np.random.randint(0, 10, (2, 5))\n",
        "array_2"
      ],
      "execution_count": null,
      "outputs": [
        {
          "output_type": "execute_result",
          "data": {
            "text/plain": [
              "array([[9, 3, 3, 4, 1],\n",
              "       [5, 5, 2, 1, 0]])"
            ]
          },
          "metadata": {},
          "execution_count": 15
        }
      ]
    },
    {
      "cell_type": "code",
      "metadata": {
        "id": "grncP2mwviZT",
        "colab": {
          "base_uri": "https://localhost:8080/"
        },
        "outputId": "f3eeb606-b5cb-4fb1-b4a4-65b904bab166"
      },
      "source": [
        "# Creamos un array de números aleatorios decimales comprendidos en entre 0 y 1, de tamaño (3, 5)\n",
        "array_3 = np.random.random((3, 5))\n",
        "array_3"
      ],
      "execution_count": null,
      "outputs": [
        {
          "output_type": "execute_result",
          "data": {
            "text/plain": [
              "array([[0.65885315, 0.77608896, 0.82030029, 0.88094242, 0.95517968],\n",
              "       [0.79373362, 0.1793216 , 0.61687287, 0.35235445, 0.67911761],\n",
              "       [0.11515204, 0.90080612, 0.03876417, 0.15154058, 0.7833941 ]])"
            ]
          },
          "metadata": {},
          "execution_count": 17
        }
      ]
    },
    {
      "cell_type": "code",
      "metadata": {
        "id": "8pCexJ6zviZT",
        "colab": {
          "base_uri": "https://localhost:8080/"
        },
        "outputId": "c83ece71-c7fe-42cc-d05d-5584a2cb3f5f"
      },
      "source": [
        "# Establecemos la \"semilla\" de números aleatorios en 27\n",
        "np.random.seed(27)\n",
        "\n",
        "\n",
        "# Creamos un array de números aleatorios enteros comprendidos en entre 0 y 10, de tamaño (3, 5)\n",
        "array_4 = np.random.randint(0, 10, (3, 5))\n",
        "array_4"
      ],
      "execution_count": null,
      "outputs": [
        {
          "output_type": "execute_result",
          "data": {
            "text/plain": [
              "array([[3, 8, 8, 8, 0],\n",
              "       [5, 8, 9, 1, 2],\n",
              "       [1, 1, 4, 6, 3]])"
            ]
          },
          "metadata": {},
          "execution_count": 20
        }
      ]
    },
    {
      "cell_type": "markdown",
      "metadata": {
        "id": "N41yqfNDviZU"
      },
      "source": [
        "¿Qué ocurre al correr la última celda nuevamente, a diferencia de las anteriores?"
      ]
    },
    {
      "cell_type": "code",
      "metadata": {
        "id": "acrAc-j4viZY",
        "colab": {
          "base_uri": "https://localhost:8080/"
        },
        "outputId": "a5557d9d-90f5-462a-efdb-e3ff13a068d1"
      },
      "source": [
        "# Encontramos los valores únicos del array_4\n",
        "np.unique(array_4)"
      ],
      "execution_count": null,
      "outputs": [
        {
          "output_type": "execute_result",
          "data": {
            "text/plain": [
              "array([0, 1, 2, 3, 4, 5, 6, 8, 9])"
            ]
          },
          "metadata": {},
          "execution_count": 21
        }
      ]
    },
    {
      "cell_type": "code",
      "metadata": {
        "id": "d-pXWguvviZZ",
        "colab": {
          "base_uri": "https://localhost:8080/"
        },
        "outputId": "1fb6b9fa-c00d-49ed-8aba-0fef44819e02"
      },
      "source": [
        "# Extraemos el elemento de índice 1 del array_4\n",
        "array_4[1]"
      ],
      "execution_count": null,
      "outputs": [
        {
          "output_type": "execute_result",
          "data": {
            "text/plain": [
              "array([5, 8, 9, 1, 2])"
            ]
          },
          "metadata": {},
          "execution_count": 22
        }
      ]
    },
    {
      "cell_type": "code",
      "metadata": {
        "id": "cVx_UouPviZa",
        "colab": {
          "base_uri": "https://localhost:8080/"
        },
        "outputId": "a17355c9-e319-45b6-dab7-1952e7eddc05"
      },
      "source": [
        "# Extraemos las primeras dos filas del array_4\n",
        "array_4[:2]"
      ],
      "execution_count": null,
      "outputs": [
        {
          "output_type": "execute_result",
          "data": {
            "text/plain": [
              "array([[3, 8, 8, 8, 0],\n",
              "       [5, 8, 9, 1, 2]])"
            ]
          },
          "metadata": {},
          "execution_count": 23
        }
      ]
    },
    {
      "cell_type": "code",
      "metadata": {
        "id": "rIsVaI-JviZa",
        "colab": {
          "base_uri": "https://localhost:8080/"
        },
        "outputId": "0b8b5544-4f70-465a-a15e-2fdcb999906b"
      },
      "source": [
        "# Extraemos los dos primeros datos de las primeras dos filas del array_4\n",
        "array_4[:2, :2]"
      ],
      "execution_count": null,
      "outputs": [
        {
          "output_type": "execute_result",
          "data": {
            "text/plain": [
              "array([[3, 8],\n",
              "       [5, 8]])"
            ]
          },
          "metadata": {},
          "execution_count": 24
        }
      ]
    },
    {
      "cell_type": "code",
      "metadata": {
        "id": "3sw4JCF6viZb"
      },
      "source": [
        "# Creamos dos arrays de tamaño 3x4: uno relleno de números aleatorios entre 0 y 10, y otro relleno de unos\n",
        "array_5 = np.random.randint(0, 10, (3, 4))\n",
        "array_6 = np.ones((3, 4))\n"
      ],
      "execution_count": null,
      "outputs": []
    },
    {
      "cell_type": "code",
      "metadata": {
        "id": "kVas2wqdviZb",
        "colab": {
          "base_uri": "https://localhost:8080/"
        },
        "outputId": "ceadc19c-f52f-4b38-ce5c-175a8eaf5ac4"
      },
      "source": [
        "# invocamos el array_5\n",
        "array_5"
      ],
      "execution_count": null,
      "outputs": [
        {
          "output_type": "execute_result",
          "data": {
            "text/plain": [
              "array([[3, 0, 5, 3],\n",
              "       [3, 6, 7, 2],\n",
              "       [7, 8, 5, 7]])"
            ]
          },
          "metadata": {},
          "execution_count": 26
        }
      ]
    },
    {
      "cell_type": "code",
      "metadata": {
        "id": "ZnZoUjRIviZb",
        "colab": {
          "base_uri": "https://localhost:8080/"
        },
        "outputId": "eef1ca0e-20de-487a-fb6d-fd47efff0b86"
      },
      "source": [
        "# invocamos el array_6\n",
        "array_6"
      ],
      "execution_count": null,
      "outputs": [
        {
          "output_type": "execute_result",
          "data": {
            "text/plain": [
              "array([[1., 1., 1., 1.],\n",
              "       [1., 1., 1., 1.],\n",
              "       [1., 1., 1., 1.]])"
            ]
          },
          "metadata": {},
          "execution_count": 27
        }
      ]
    },
    {
      "cell_type": "code",
      "metadata": {
        "id": "EoBkbsHqviZb",
        "colab": {
          "base_uri": "https://localhost:8080/"
        },
        "outputId": "07403a44-6c79-44d3-afc7-9aea9ee96960"
      },
      "source": [
        "# Sumamos los dos arrays\n",
        "array_5 + array_6"
      ],
      "execution_count": null,
      "outputs": [
        {
          "output_type": "execute_result",
          "data": {
            "text/plain": [
              "array([[4., 1., 6., 4.],\n",
              "       [4., 7., 8., 3.],\n",
              "       [8., 9., 6., 8.]])"
            ]
          },
          "metadata": {},
          "execution_count": 28
        }
      ]
    },
    {
      "cell_type": "code",
      "metadata": {
        "id": "493z2XKFviZc",
        "colab": {
          "base_uri": "https://localhost:8080/"
        },
        "outputId": "e6ce175f-2ede-4e78-fec6-ff80045e55b6"
      },
      "source": [
        "# Creamos ahora un array de tamaño (4,3) lleno de unos\n",
        "array_7 = np.ones((4, 3))\n",
        "array_7"
      ],
      "execution_count": null,
      "outputs": [
        {
          "output_type": "execute_result",
          "data": {
            "text/plain": [
              "array([[1., 1., 1.],\n",
              "       [1., 1., 1.],\n",
              "       [1., 1., 1.],\n",
              "       [1., 1., 1.]])"
            ]
          },
          "metadata": {},
          "execution_count": 31
        }
      ]
    },
    {
      "cell_type": "code",
      "metadata": {
        "id": "f19RtdoYviZc",
        "colab": {
          "base_uri": "https://localhost:8080/",
          "height": 159
        },
        "outputId": "4682ce58-ba37-4f57-cb76-6906fe6e8ac1"
      },
      "source": [
        "# Intentaremos sumar los arrays 6 y 7\n",
        "array_6 + array_7"
      ],
      "execution_count": null,
      "outputs": [
        {
          "output_type": "error",
          "ename": "ValueError",
          "evalue": "operands could not be broadcast together with shapes (3,4) (4,3) ",
          "traceback": [
            "\u001b[0;31m---------------------------------------------------------------------------\u001b[0m",
            "\u001b[0;31mValueError\u001b[0m                                Traceback (most recent call last)",
            "\u001b[0;32m<ipython-input-30-e74e21a61c65>\u001b[0m in \u001b[0;36m<cell line: 2>\u001b[0;34m()\u001b[0m\n\u001b[1;32m      1\u001b[0m \u001b[0;31m# Intentaremos sumar los arrays 6 y 7\u001b[0m\u001b[0;34m\u001b[0m\u001b[0;34m\u001b[0m\u001b[0m\n\u001b[0;32m----> 2\u001b[0;31m \u001b[0marray_6\u001b[0m \u001b[0;34m+\u001b[0m \u001b[0marray_7\u001b[0m\u001b[0;34m\u001b[0m\u001b[0;34m\u001b[0m\u001b[0m\n\u001b[0m",
            "\u001b[0;31mValueError\u001b[0m: operands could not be broadcast together with shapes (3,4) (4,3) "
          ]
        }
      ]
    },
    {
      "cell_type": "markdown",
      "metadata": {
        "id": "wZKsfqU4viZc"
      },
      "source": [
        "¿A qué se debe el error anterior? ¿Qué deberíamos tener en cuenta para que no suceda?"
      ]
    },
    {
      "cell_type": "code",
      "metadata": {
        "id": "obwyxLmWviZc",
        "colab": {
          "base_uri": "https://localhost:8080/"
        },
        "outputId": "485c4a69-fb7e-47df-d285-cc76f65b8359"
      },
      "source": [
        "# Entonces crearemos otro array de tamaño (4,3) lleno de unos\n",
        "array_8 = np.ones((4, 3))\n",
        "array_8"
      ],
      "execution_count": null,
      "outputs": [
        {
          "output_type": "execute_result",
          "data": {
            "text/plain": [
              "array([[1., 1., 1.],\n",
              "       [1., 1., 1.],\n",
              "       [1., 1., 1.],\n",
              "       [1., 1., 1.]])"
            ]
          },
          "metadata": {},
          "execution_count": 32
        }
      ]
    },
    {
      "cell_type": "code",
      "metadata": {
        "id": "JyBEsQ5NviZd",
        "colab": {
          "base_uri": "https://localhost:8080/"
        },
        "outputId": "8391116e-58f8-49da-8f80-b32e6244d03a"
      },
      "source": [
        "# Restamos el array_8 al array_7\n",
        "array_8 - array_7"
      ],
      "execution_count": null,
      "outputs": [
        {
          "output_type": "execute_result",
          "data": {
            "text/plain": [
              "array([[0., 0., 0.],\n",
              "       [0., 0., 0.],\n",
              "       [0., 0., 0.],\n",
              "       [0., 0., 0.]])"
            ]
          },
          "metadata": {},
          "execution_count": 33
        }
      ]
    },
    {
      "cell_type": "code",
      "metadata": {
        "id": "utZb5NTzviZd"
      },
      "source": [
        "# Creamos otros dos arrays de tamaño 3x3 con números aleatorios del 1 al 5\n",
        "array_9 = np.random.randint(1, 5, (3, 3))\n",
        "array_10 = np.random.randint(1, 5, (3, 3))"
      ],
      "execution_count": null,
      "outputs": []
    },
    {
      "cell_type": "code",
      "metadata": {
        "id": "u1vV-B5C2vSk",
        "colab": {
          "base_uri": "https://localhost:8080/"
        },
        "outputId": "dac2d780-cd7c-4a85-ae77-22f6bef6b8e0"
      },
      "source": [
        "# invocamos el array_9\n",
        "array_9"
      ],
      "execution_count": null,
      "outputs": [
        {
          "output_type": "execute_result",
          "data": {
            "text/plain": [
              "array([[2, 3, 4],\n",
              "       [1, 4, 4],\n",
              "       [2, 3, 4]])"
            ]
          },
          "metadata": {},
          "execution_count": 35
        }
      ]
    },
    {
      "cell_type": "code",
      "metadata": {
        "id": "79rO6fGL2wvE",
        "colab": {
          "base_uri": "https://localhost:8080/"
        },
        "outputId": "5a23dc8f-7cbe-4bd2-c452-f5fb3576b8e0"
      },
      "source": [
        "# invocamos el array_10\n",
        "array_10"
      ],
      "execution_count": null,
      "outputs": [
        {
          "output_type": "execute_result",
          "data": {
            "text/plain": [
              "array([[2, 1, 4],\n",
              "       [4, 1, 2],\n",
              "       [2, 4, 1]])"
            ]
          },
          "metadata": {},
          "execution_count": 36
        }
      ]
    },
    {
      "cell_type": "code",
      "metadata": {
        "id": "ZhBCrrbKviZd",
        "colab": {
          "base_uri": "https://localhost:8080/"
        },
        "outputId": "78a8889d-4e67-4157-8316-d3f0fa009bfe"
      },
      "source": [
        "# Multiplicamos los últimos dos arrays entre sí\n",
        "array_9 * array_10"
      ],
      "execution_count": null,
      "outputs": [
        {
          "output_type": "execute_result",
          "data": {
            "text/plain": [
              "array([[ 4,  3, 16],\n",
              "       [ 4,  4,  8],\n",
              "       [ 4, 12,  4]])"
            ]
          },
          "metadata": {},
          "execution_count": 37
        }
      ]
    },
    {
      "cell_type": "code",
      "metadata": {
        "id": "-u-zydBZviZd",
        "colab": {
          "base_uri": "https://localhost:8080/"
        },
        "outputId": "6270ff76-1564-48ca-f4f6-98dfbe83f6c5"
      },
      "source": [
        "# Elevamos el array_9 al cuadrado\n",
        "array_9**2"
      ],
      "execution_count": null,
      "outputs": [
        {
          "output_type": "execute_result",
          "data": {
            "text/plain": [
              "array([[ 4,  9, 16],\n",
              "       [ 1, 16, 16],\n",
              "       [ 4,  9, 16]])"
            ]
          },
          "metadata": {},
          "execution_count": 38
        }
      ]
    },
    {
      "cell_type": "code",
      "metadata": {
        "id": "dMEqsjSD3D6F",
        "colab": {
          "base_uri": "https://localhost:8080/"
        },
        "outputId": "c81df5ec-6401-4ea5-eadb-5ef80c0099c9"
      },
      "source": [
        "# Buscamos la raíz cuadrada del array_10\n",
        "np.sqrt(array_10)"
      ],
      "execution_count": null,
      "outputs": [
        {
          "output_type": "execute_result",
          "data": {
            "text/plain": [
              "array([[1.41421356, 1.        , 2.        ],\n",
              "       [2.        , 1.        , 1.41421356],\n",
              "       [1.41421356, 2.        , 1.        ]])"
            ]
          },
          "metadata": {},
          "execution_count": 39
        }
      ]
    },
    {
      "cell_type": "code",
      "metadata": {
        "id": "4TlMFRRFviZd",
        "colab": {
          "base_uri": "https://localhost:8080/"
        },
        "outputId": "fa00e549-48c7-4ed5-ad35-0513f6f4dd5e"
      },
      "source": [
        "# Hallamos el promedio de los valores del array_9\n",
        "array_9.mean()"
      ],
      "execution_count": null,
      "outputs": [
        {
          "output_type": "execute_result",
          "data": {
            "text/plain": [
              "3.0"
            ]
          },
          "metadata": {},
          "execution_count": 40
        }
      ]
    },
    {
      "cell_type": "code",
      "metadata": {
        "id": "mu1-ASw7viZd",
        "colab": {
          "base_uri": "https://localhost:8080/"
        },
        "outputId": "931501dd-4cec-4de9-a4a3-113038d4b5f7"
      },
      "source": [
        "# Hallamos el valor máximo de los valores del array_9\n",
        "array_9.max()"
      ],
      "execution_count": null,
      "outputs": [
        {
          "output_type": "execute_result",
          "data": {
            "text/plain": [
              "4"
            ]
          },
          "metadata": {},
          "execution_count": 41
        }
      ]
    },
    {
      "cell_type": "code",
      "metadata": {
        "id": "iKAPHmnVviZe",
        "colab": {
          "base_uri": "https://localhost:8080/"
        },
        "outputId": "1e8f2623-e428-427a-ec51-55a73b125b2a"
      },
      "source": [
        "# Hallamos el valor mínimo de los valores del array_9\n",
        "array_9.min()"
      ],
      "execution_count": null,
      "outputs": [
        {
          "output_type": "execute_result",
          "data": {
            "text/plain": [
              "1"
            ]
          },
          "metadata": {},
          "execution_count": 42
        }
      ]
    },
    {
      "cell_type": "code",
      "metadata": {
        "id": "K2N9WX6dviZe"
      },
      "source": [
        "# Cambiamos la forma del array_9 por una de 9x1, y lo almacenamos como array_11\n",
        "array_11 = array_9.reshape((9, 1))"
      ],
      "execution_count": null,
      "outputs": []
    },
    {
      "cell_type": "code",
      "metadata": {
        "id": "YM2wKMOk3vrJ",
        "colab": {
          "base_uri": "https://localhost:8080/"
        },
        "outputId": "440b3d5d-d7f8-4efa-e931-8867518700c9"
      },
      "source": [
        "# invocamos el array_11\n",
        "array_11"
      ],
      "execution_count": null,
      "outputs": [
        {
          "output_type": "execute_result",
          "data": {
            "text/plain": [
              "array([[2],\n",
              "       [3],\n",
              "       [4],\n",
              "       [1],\n",
              "       [4],\n",
              "       [4],\n",
              "       [2],\n",
              "       [3],\n",
              "       [4]])"
            ]
          },
          "metadata": {},
          "execution_count": 44
        }
      ]
    },
    {
      "cell_type": "code",
      "metadata": {
        "id": "hjv049niviZe",
        "colab": {
          "base_uri": "https://localhost:8080/"
        },
        "outputId": "0026da0e-30d3-44d8-88bb-e1ed5fc76613"
      },
      "source": [
        "# Transponemos el array_11\n",
        "array_11.T"
      ],
      "execution_count": null,
      "outputs": [
        {
          "output_type": "execute_result",
          "data": {
            "text/plain": [
              "array([[2, 3, 4, 1, 4, 4, 2, 3, 4]])"
            ]
          },
          "metadata": {},
          "execution_count": 45
        }
      ]
    },
    {
      "cell_type": "code",
      "metadata": {
        "id": "ygIkkZcwviZg",
        "colab": {
          "base_uri": "https://localhost:8080/"
        },
        "outputId": "33f43d39-3cea-40dc-d1d7-68286961270c"
      },
      "source": [
        "# Comparamos el array_9 y el array_10, para saber cuáles elementos del array_9 son mayores a los del array_10\n",
        "array_12 = array_9 > array_10\n",
        "array_12"
      ],
      "execution_count": null,
      "outputs": [
        {
          "output_type": "execute_result",
          "data": {
            "text/plain": [
              "array([[False,  True, False],\n",
              "       [False,  True,  True],\n",
              "       [False, False,  True]])"
            ]
          },
          "metadata": {},
          "execution_count": 46
        }
      ]
    },
    {
      "cell_type": "markdown",
      "metadata": {
        "id": "-MNVhc50viZg"
      },
      "source": [
        "¿Qué tipos de datos forman parte del array de resultados?"
      ]
    },
    {
      "cell_type": "code",
      "metadata": {
        "id": "JRRyJjDdEUd4",
        "colab": {
          "base_uri": "https://localhost:8080/"
        },
        "outputId": "445bc23d-49f0-4f43-e91d-52ee1d987d4e"
      },
      "source": [
        "# Veamos sus nuevos tipos de datos\n",
        "array_12.dtype"
      ],
      "execution_count": null,
      "outputs": [
        {
          "output_type": "execute_result",
          "data": {
            "text/plain": [
              "dtype('bool')"
            ]
          },
          "metadata": {},
          "execution_count": 47
        }
      ]
    },
    {
      "cell_type": "code",
      "metadata": {
        "id": "toyvK5rYviZh",
        "colab": {
          "base_uri": "https://localhost:8080/"
        },
        "outputId": "6e88c7c0-5d3f-4a7f-f87a-572f9d4ed087"
      },
      "source": [
        "# Alguno de los elementos del array_9 es igual su equivalente del array_10?\n",
        "array_9 == array_10"
      ],
      "execution_count": null,
      "outputs": [
        {
          "output_type": "execute_result",
          "data": {
            "text/plain": [
              "array([[ True, False,  True],\n",
              "       [False, False, False],\n",
              "       [ True, False, False]])"
            ]
          },
          "metadata": {},
          "execution_count": 48
        }
      ]
    },
    {
      "cell_type": "code",
      "metadata": {
        "id": "FXguC1-UviZg",
        "colab": {
          "base_uri": "https://localhost:8080/"
        },
        "outputId": "001e5580-a32d-41e4-c2ef-ca7e10c238cf"
      },
      "source": [
        "# Comparamos nuevamente ambos arrays, en esta ocasión con >=\n",
        "array_9>=array_10"
      ],
      "execution_count": null,
      "outputs": [
        {
          "output_type": "execute_result",
          "data": {
            "text/plain": [
              "array([[ True,  True,  True],\n",
              "       [False,  True,  True],\n",
              "       [ True, False,  True]])"
            ]
          },
          "metadata": {},
          "execution_count": 49
        }
      ]
    },
    {
      "cell_type": "code",
      "metadata": {
        "id": "Ws2bJ0ZEviZg",
        "colab": {
          "base_uri": "https://localhost:8080/"
        },
        "outputId": "7e330ea0-d8b0-478a-d29d-efa0ae0fbe13"
      },
      "source": [
        "# Buscamos los elementos del array_9 que son mayores a 2\n",
        "array_9 > 2"
      ],
      "execution_count": null,
      "outputs": [
        {
          "output_type": "execute_result",
          "data": {
            "text/plain": [
              "array([[False,  True,  True],\n",
              "       [False,  True,  True],\n",
              "       [False,  True,  True]])"
            ]
          },
          "metadata": {},
          "execution_count": 50
        }
      ]
    },
    {
      "cell_type": "code",
      "metadata": {
        "id": "z4XeFVsoviZh",
        "colab": {
          "base_uri": "https://localhost:8080/"
        },
        "outputId": "edff86d2-676f-4b2a-bc94-0b6ff7f87f90"
      },
      "source": [
        "# Ordenamos de menor a mayor los elementos dentro del array_9\n",
        "np.sort(array_9)"
      ],
      "execution_count": null,
      "outputs": [
        {
          "output_type": "execute_result",
          "data": {
            "text/plain": [
              "array([[2, 3, 4],\n",
              "       [1, 4, 4],\n",
              "       [2, 3, 4]])"
            ]
          },
          "metadata": {},
          "execution_count": 51
        }
      ]
    }
  ]
}